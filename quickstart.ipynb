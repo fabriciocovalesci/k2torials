{
 "cells": [
  {
   "cell_type": "markdown",
   "metadata": {},
   "source": [
    "# Quickstart"
   ]
  },
  {
   "cell_type": "markdown",
   "metadata": {},
   "source": [
    "If you have a working version of Python 2 or 3 on your system\n",
    "(we recommend [Anaconda Python](https://www.continuum.io/downloads)),\n",
    "you can simply install the latest stable release of the *lightkurve* package using ``pip``:\n",
    "```\n",
    "$ pip install lightkurve\n",
    "```\n",
    "With *lightkurve* installed, it is easy to extract brightness time series data (astronomers call this a *lightcurve*)\n",
    "from the tiny images of stars collected by the Kepler spacecraft.\n",
    "\n",
    "For example, let's download and display the pixels of a famous star named [KIC 8462852](https://en.wikipedia.org/wiki/KIC_8462852), also known as *Tabby's Star* or *Boyajian's Star*.\n",
    "\n",
    "First, we start Python and import the `KeplerTargetPixelFile` class:"
   ]
  },
  {
   "cell_type": "markdown",
   "metadata": {},
   "source": [
    "# Tradução\n",
    "\n",
    "Se você possui uma versão funcional do Python 2 ou 3 em seu sistema (recomendamos o Anaconda Python), basta instalar a versão estável mais recente do pacote lightkurve usando o pip:\n",
    "\n",
    "**$ pip install lightkurve**\n",
    "\n",
    "Com o lightkurve instalado, é fácil extrair dados de séries temporais de brilho (os astrônomos chamam isso de lightcurve) a partir das minúsculas imagens de estrelas coletadas pela sonda Kepler.\n",
    "\n",
    "Por exemplo, vamos baixar e exibir os pixels de uma estrela famosa chamada KIC 8462852, também conhecida como Estrela de Tabby ou Estrela de Boyajian.\n",
    "\n",
    "Primeiro, iniciamos o Python e importamos a classe KeplerTargetPixelFile:"
   ]
  },
  {
   "cell_type": "code",
   "execution_count": 1,
   "metadata": {},
   "outputs": [],
   "source": [
    "from lightkurve import KeplerTargetPixelFile"
   ]
  },
  {
   "cell_type": "markdown",
   "metadata": {},
   "source": [
    "Em seguida, obtemos os dados de pixel Kepler da estrela a partir do [data archive](https://archive.stsci.edu/kepler/):"
   ]
  },
  {
   "cell_type": "code",
   "execution_count": 1,
   "metadata": {},
   "outputs": [
    {
     "ename": "NameError",
     "evalue": "name 'KeplerTargetPixelFile' is not defined",
     "output_type": "error",
     "traceback": [
      "\u001b[0;31m---------------------------------------------------------------------------\u001b[0m",
      "\u001b[0;31mNameError\u001b[0m                                 Traceback (most recent call last)",
      "\u001b[0;32m<ipython-input-1-1c2320ccf426>\u001b[0m in \u001b[0;36m<module>\u001b[0;34m\u001b[0m\n\u001b[0;32m----> 1\u001b[0;31m tpf = KeplerTargetPixelFile.from_archive(8462852, quarter=16,\n\u001b[0m\u001b[1;32m      2\u001b[0m                                          quality_bitmask='hardest');\n",
      "\u001b[0;31mNameError\u001b[0m: name 'KeplerTargetPixelFile' is not defined"
     ]
    }
   ],
   "source": [
    "tpf = KeplerTargetPixelFile.from_archive(8462852, quarter=16,\n",
    "                                         quality_bitmask='hardest');"
   ]
  },
  {
   "cell_type": "markdown",
   "metadata": {},
   "source": [
    "Next, let's display the first image in this data set:"
   ]
  },
  {
   "cell_type": "code",
   "execution_count": 2,
   "metadata": {},
   "outputs": [
    {
     "ename": "NameError",
     "evalue": "name 'tpf' is not defined",
     "output_type": "error",
     "traceback": [
      "\u001b[0;31m---------------------------------------------------------------------------\u001b[0m",
      "\u001b[0;31mNameError\u001b[0m                                 Traceback (most recent call last)",
      "\u001b[0;32m<ipython-input-2-33dad58a23aa>\u001b[0m in \u001b[0;36m<module>\u001b[0;34m\u001b[0m\n\u001b[1;32m      1\u001b[0m \u001b[0mget_ipython\u001b[0m\u001b[0;34m(\u001b[0m\u001b[0;34m)\u001b[0m\u001b[0;34m.\u001b[0m\u001b[0mrun_line_magic\u001b[0m\u001b[0;34m(\u001b[0m\u001b[0;34m'matplotlib'\u001b[0m\u001b[0;34m,\u001b[0m \u001b[0;34m'inline'\u001b[0m\u001b[0;34m)\u001b[0m\u001b[0;34m\u001b[0m\u001b[0;34m\u001b[0m\u001b[0m\n\u001b[0;32m----> 2\u001b[0;31m \u001b[0mtpf\u001b[0m\u001b[0;34m.\u001b[0m\u001b[0mplot\u001b[0m\u001b[0;34m(\u001b[0m\u001b[0mframe\u001b[0m\u001b[0;34m=\u001b[0m\u001b[0;36m1\u001b[0m\u001b[0;34m)\u001b[0m\u001b[0;34m;\u001b[0m\u001b[0;34m\u001b[0m\u001b[0;34m\u001b[0m\u001b[0m\n\u001b[0m",
      "\u001b[0;31mNameError\u001b[0m: name 'tpf' is not defined"
     ]
    }
   ],
   "source": [
    "%matplotlib inline\n",
    "tpf.plot(frame=1);"
   ]
  },
  {
   "cell_type": "markdown",
   "metadata": {},
   "source": [
    "It looks like the star is an isolated object, so we can extract a lightcurve by simply summing up all the pixel values in each image:"
   ]
  },
  {
   "cell_type": "code",
   "execution_count": 4,
   "metadata": {
    "collapsed": true
   },
   "outputs": [],
   "source": [
    "lc = tpf.to_lightcurve(aperture_mask='all');"
   ]
  },
  {
   "cell_type": "markdown",
   "metadata": {},
   "source": [
    "The above method returned a `KeplerLightCurve` object which gives us access to the flux over time, which are both available as array objects.  The time is in units of *days* and the flux is in units *electrons/second*."
   ]
  },
  {
   "cell_type": "code",
   "execution_count": 5,
   "metadata": {},
   "outputs": [
    {
     "data": {
      "text/plain": [
       "(array([ 1472.11777934,  1472.13821223,  1472.15864492, ...,  1557.89718798,\n",
       "         1557.9380561 ,  1557.95849016]),\n",
       " array([ 258645.03125 ,  258660.046875,  258690.078125, ...,  258929.859375,\n",
       "         258884.65625 ,  258865.59375 ], dtype=float32))"
      ]
     },
     "execution_count": 5,
     "metadata": {},
     "output_type": "execute_result"
    }
   ],
   "source": [
    "lc.time, lc.flux"
   ]
  },
  {
   "cell_type": "markdown",
   "metadata": {},
   "source": [
    "We can plot these data using the `plot()` method:"
   ]
  },
  {
   "cell_type": "code",
   "execution_count": 6,
   "metadata": {},
   "outputs": [
    {
     "data": {
      "image/png": "[encoded data removed]",
      "text/plain": [
       "<matplotlib.figure.Figure at 0x7f0a8426c6a0>"
      ]
     },
     "metadata": {},
     "output_type": "display_data"
    }
   ],
   "source": [
    "lc.plot(linestyle='solid');"
   ]
  },
  {
   "cell_type": "markdown",
   "metadata": {},
   "source": [
    "The plot reveals a short-lived 20% dip in the brightness of the star.  It looks like we re-discovered one of the [intriguing dips in Tabby's star](https://en.wikipedia.org/wiki/KIC_8462852#Luminosity)!"
   ]
  }
 ],
 "metadata": {
  "kernelspec": {
   "display_name": "Python 3",
   "language": "python",
   "name": "python3"
  },
  "language_info": {
   "codemirror_mode": {
    "name": "ipython",
    "version": 3
   },
   "file_extension": ".py",
   "mimetype": "text/x-python",
   "name": "python",
   "nbconvert_exporter": "python",
   "pygments_lexer": "ipython3",
   "version": "3.7.6"
  }
 },
 "nbformat": 4,
 "nbformat_minor": 2
}
