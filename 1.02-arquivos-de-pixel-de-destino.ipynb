{
 "cells": [
  {
   "cell_type": "markdown",
   "metadata": {},
   "source": [
    "# What are Target Pixel Files?"
   ]
  },
  {
   "cell_type": "markdown",
   "metadata": {},
   "source": [
    "Target Pixel Files (TPFs) are a file common to Kepler/K2 and the TESS mission. They contain data that is usually centered around a single star.\n",
    "\n",
    "TPFs can be thought of as stacks of images, with one image for every timestamp the telescope took data. Each timestamp is referred to as a **cadence**. These images are cut out 'postage stamps' of the full observation to make them easier to work with. \n",
    "\n",
    "TPFs are given in FITS files, which you can read more about [here](https://fits.gsfc.nasa.gov/fits_primer.html). `lightkurve` includes tools for you to work directly with these files easily and intuitively.\n",
    "\n",
    "In this tutorial we'll cover the basics of working with TPFs. In lightcurve there are classes to work with each mission. For example `KeplerTargetPixelFile` is used to work with data from the Kepler (and K2) mission. `TessTargetPixelFile` is used to work with data from the TESS mission.\n",
    "\n",
    "We'll us a Kepler TPF as an example. First, let's open a file. We can do this easily with the `KeplerTargetPixelFile.from_archive` function. This will retrieve the data from the [MAST data archive](https://archive.stsci.edu/kepler/), which holds all of the Kepler and K2 data.\n",
    "In this case we are downloading the Target Pixel File with the Kepler ID 6922244 for quarter 4 (Kepler's observations were split into quarters of a year).\n",
    "You can also download a file with `from_archive` using the name of the target, or using the astronomical coordinates (Right Ascension and Declination, often referred to as \"RA\" and \"Dec\")."
   ]
  },
  {
   "cell_type": "markdown",
   "metadata": {},
   "source": [
    "# O que são arquivos de pixel de destino?"
   ]
  },
  {
   "cell_type": "markdown",
   "metadata": {},
   "source": [
    "Os arquivos de pixel de destino (TPFs) são um arquivo comum ao Kepler / K2 e à missão TESS. Eles contêm dados que geralmente são centralizados em torno de uma única estrela.\n",
    "\n",
    "Os TPFs podem ser considerados pilhas de imagens, com uma imagem para cada registro de data e hora que o telescópio coletou dados. Cada registro de data e hora é referido como ** cadência **. Essas imagens são recortadas 'selos postais' da observação completa para facilitar o trabalho.\n",
    "\n",
    "Os TPFs são fornecidos nos arquivos do FITS, sobre os quais você pode ler mais sobre [aqui] (https://fits.gsfc.nasa.gov/fits_primer.html). O `lightkurve` inclui ferramentas para você trabalhar diretamente com esses arquivos de maneira fácil e intuitiva.\n",
    "\n",
    "Neste tutorial, abordaremos o básico do trabalho com TPFs. No lightcurve, existem classes para trabalhar com cada missão. Por exemplo, `KeplerTargetPixelFile` é usado para trabalhar com dados da missão Kepler (e K2). O `TessTargetPixelFile` é usado para trabalhar com dados da missão TESS.\n",
    "\n",
    "Vamos usar um Kepler TPF como exemplo. Primeiro, vamos abrir um arquivo. Podemos fazer isso facilmente com a função `KeplerTargetPixelFile.from_archive`. Isso recuperará os dados do [arquivo de dados MAST] (https://archive.stsci.edu/kepler/), que contém todos os dados do Kepler e K2.\n",
    "Nesse caso, estamos baixando o Target Pixel File com o Kepler ID 6922244 para o quarto trimestre (as observações do Kepler foram divididas em trimestres de um ano).\n",
    "Você também pode baixar um arquivo com `from_archive` usando o nome do alvo ou usando as coordenadas astronômicas (Ascensão e declinação retas, geralmente chamadas de\" RA \"e\" Dec \")."
   ]
  },
  {
   "cell_type": "code",
   "execution_count": 5,
   "metadata": {},
   "outputs": [],
   "source": [
    "from lightkurve import KeplerTargetPixelFile\n",
    "\n",
    "#tpf = KeplerTargetPixelFile.from_archive(6922244, quarter=4)"
   ]
  },
  {
   "cell_type": "code",
   "execution_count": 13,
   "metadata": {},
   "outputs": [
    {
     "name": "stderr",
     "output_type": "stream",
     "text": [
      "Warning: 6922244 may refer to a different Kepler or TESS target. Please add the prefix 'KIC' or 'TIC' to disambiguate.\n"
     ]
    }
   ],
   "source": [
    "from lightkurve import search_targetpixelfile\n",
    "\n",
    "tpf = search_targetpixelfile(6922244, quarter=4).download(quality_bitmask='hardest')\n",
    "\n"
   ]
  },
  {
   "cell_type": "markdown",
   "metadata": {},
   "source": [
    "We can access lots of meta data using this object very simply with properties of the `KeplerTargetPixelFile` object. For example, we can find the mission name, and the quarter that the data was taken in by typing the following:"
   ]
  },
  {
   "cell_type": "markdown",
   "metadata": {},
   "source": [
    "Podemos acessar muitos metadados usando esse objeto de maneira muito simples, com propriedades do objeto `KeplerTargetPixelFile`. Por exemplo, podemos encontrar o nome da missão e o trimestre em que os dados foram coletados digitando o seguinte:"
   ]
  },
  {
   "cell_type": "code",
   "execution_count": 14,
   "metadata": {},
   "outputs": [
    {
     "data": {
      "text/plain": [
       "'Kepler'"
      ]
     },
     "execution_count": 14,
     "metadata": {},
     "output_type": "execute_result"
    }
   ],
   "source": [
    "tpf.mission"
   ]
  },
  {
   "cell_type": "code",
   "execution_count": 15,
   "metadata": {},
   "outputs": [
    {
     "data": {
      "text/plain": [
       "4"
      ]
     },
     "execution_count": 15,
     "metadata": {},
     "output_type": "execute_result"
    }
   ],
   "source": [
    "tpf.quarter"
   ]
  },
  {
   "cell_type": "markdown",
   "metadata": {},
   "source": [
    "You can find the full list of properties in the [API documentation](http://lightkurve.keplerscience.org/api/targetpixelfile.html)."
   ]
  },
  {
   "cell_type": "markdown",
   "metadata": {},
   "source": [
    "The most interesting data in a `KeplerTargetPixelFile` object are the `flux` and `time` values which give access to the brightness of the observed target over time. You can access the timestamps of the observations using the `time` property:"
   ]
  },
  {
   "cell_type": "markdown",
   "metadata": {},
   "source": [
    "Você pode encontrar a lista completa de propriedades na documentação da API.\n",
    "\n",
    "Os dados mais interessantes em um objeto `KeplerTargetPixelFile` são os valores` flux` e `time` que dão acesso ao brilho do alvo observado ao longo do tempo. Você pode acessar os registros de data e hora das observações usando a propriedade `time`:"
   ]
  },
  {
   "cell_type": "code",
   "execution_count": 16,
   "metadata": {
    "scrolled": true
   },
   "outputs": [
    {
     "data": {
      "text/plain": [
       "array([352.37632485, 352.45805764, 352.47849084, ..., 442.16263546,\n",
       "       442.18306983, 442.2035041 ])"
      ]
     },
     "execution_count": 16,
     "metadata": {},
     "output_type": "execute_result"
    }
   ],
   "source": [
    "tpf.time"
   ]
  },
  {
   "cell_type": "markdown",
   "metadata": {},
   "source": [
    "By default, `time` is in a Kepler-specific time frame (BKJD) in units of days. You can easily convert this into [AstroPy Time objects](http://docs.astropy.org/en/stable/time/) using the `timeobj` property:"
   ]
  },
  {
   "cell_type": "markdown",
   "metadata": {},
   "source": [
    "Por padrão, `time` está em um período específico do Kepler (BKJD) em unidades de dias. Você pode facilmente converter isso em [objetos AstroPy Time] (http://docs.astropy.org/en/stable/time/) usando a propriedade `timeobj`:"
   ]
  },
  {
   "cell_type": "code",
   "execution_count": 17,
   "metadata": {},
   "outputs": [
    {
     "ename": "AttributeError",
     "evalue": "'KeplerTargetPixelFile' object has no attribute 'timeobj'",
     "output_type": "error",
     "traceback": [
      "\u001b[0;31m---------------------------------------------------------------------------\u001b[0m",
      "\u001b[0;31mAttributeError\u001b[0m                            Traceback (most recent call last)",
      "\u001b[0;32m<ipython-input-17-263caeed1f7b>\u001b[0m in \u001b[0;36m<module>\u001b[0;34m\u001b[0m\n\u001b[0;32m----> 1\u001b[0;31m \u001b[0mtpf\u001b[0m\u001b[0;34m.\u001b[0m\u001b[0mtimeobj\u001b[0m\u001b[0;34m\u001b[0m\u001b[0;34m\u001b[0m\u001b[0m\n\u001b[0m",
      "\u001b[0;31mAttributeError\u001b[0m: 'KeplerTargetPixelFile' object has no attribute 'timeobj'"
     ]
    }
   ],
   "source": [
    "tpf.timeobj"
   ]
  },
  {
   "cell_type": "markdown",
   "metadata": {},
   "source": [
    "In turn, this gives you access to human-readable ISO timestamps using the `timeobj.iso` property:"
   ]
  },
  {
   "cell_type": "markdown",
   "metadata": {},
   "source": [
    "Por sua vez, isso fornece acesso a registros de data e hora ISO legíveis por humanos usando a propriedade `timeobj.iso`:\n"
   ]
  },
  {
   "cell_type": "code",
   "execution_count": 18,
   "metadata": {},
   "outputs": [
    {
     "ename": "AttributeError",
     "evalue": "'KeplerTargetPixelFile' object has no attribute 'timeobj'",
     "output_type": "error",
     "traceback": [
      "\u001b[0;31m---------------------------------------------------------------------------\u001b[0m",
      "\u001b[0;31mAttributeError\u001b[0m                            Traceback (most recent call last)",
      "\u001b[0;32m<ipython-input-18-45f9e40b68e5>\u001b[0m in \u001b[0;36m<module>\u001b[0;34m\u001b[0m\n\u001b[0;32m----> 1\u001b[0;31m \u001b[0mtpf\u001b[0m\u001b[0;34m.\u001b[0m\u001b[0mtimeobj\u001b[0m\u001b[0;34m.\u001b[0m\u001b[0miso\u001b[0m\u001b[0;34m\u001b[0m\u001b[0;34m\u001b[0m\u001b[0m\n\u001b[0m",
      "\u001b[0;31mAttributeError\u001b[0m: 'KeplerTargetPixelFile' object has no attribute 'timeobj'"
     ]
    }
   ],
   "source": [
    "tpf.timeobj.iso"
   ]
  },
  {
   "cell_type": "markdown",
   "metadata": {},
   "source": [
    "Next, let's look at the actual image data, which is available via the `flux` property:"
   ]
  },
  {
   "cell_type": "markdown",
   "metadata": {},
   "source": [
    "A seguir, vejamos os dados reais da imagem, disponíveis através da propriedade `flux`:"
   ]
  },
  {
   "cell_type": "code",
   "execution_count": 7,
   "metadata": {},
   "outputs": [
    {
     "data": {
      "text/plain": [
       "(4020, 5, 5)"
      ]
     },
     "execution_count": 7,
     "metadata": {},
     "output_type": "execute_result"
    }
   ],
   "source": [
    "tpf.flux.shape"
   ]
  },
  {
   "cell_type": "markdown",
   "metadata": {},
   "source": [
    "The `flux` data is a 4020x5x5 array in units electrons/second. The first axis is the time axis, and the images themselves are 5 pixels by 5 pixels. You can use the `plot` method on the `KeplerTargetPixelFile` object to view the data. (By default, this will show just one cadence of the data. But you can pass the cadence you want to look at to the `frame` keyword if you would like to check a particular flux point for thruster firings, cosmic rays or asteroids.)"
   ]
  },
  {
   "cell_type": "markdown",
   "metadata": {},
   "source": [
    "Os dados do `fluxo 'são uma matriz de 4020x5x5 em unidades de elétrons / segundo. O primeiro eixo é o eixo do tempo e as próprias imagens são de 5 por 5 pixels. Você pode usar o método `plot` no objeto` KeplerTargetPixelFile` para visualizar os dados. (Por padrão, isso mostrará apenas uma cadência dos dados. Mas você pode passar a cadência que deseja olhar para a palavra-chave `frame` se desejar verificar um ponto de fluxo específico para disparos de impulsor, raios cósmicos ou asteróides. )"
   ]
  },
  {
   "cell_type": "code",
   "execution_count": 19,
   "metadata": {},
   "outputs": [
    {
     "data": {
      "image/png": "[encoded data removed]",
      "text/plain": [
       "<Figure size 848.5x400 with 2 Axes>"
      ]
     },
     "metadata": {},
     "output_type": "display_data"
    }
   ],
   "source": [
    "%matplotlib inline\n",
    "tpf.plot(frame=0);"
   ]
  },
  {
   "cell_type": "markdown",
   "metadata": {},
   "source": [
    "The values shown in this image are also directly accessible as an array:"
   ]
  },
  {
   "cell_type": "markdown",
   "metadata": {},
   "source": [
    "Os valores mostrados nesta imagem também são diretamente acessíveis como uma matriz:"
   ]
  },
  {
   "cell_type": "code",
   "execution_count": 20,
   "metadata": {},
   "outputs": [
    {
     "data": {
      "text/plain": [
       "array([[          nan, 5.6079335e+00, 5.1491142e+01, 8.4241745e+01,\n",
       "        3.0221334e+01],\n",
       "       [4.4045620e+01, 7.6861229e+01, 1.1227759e+03, 3.2262029e+03,\n",
       "        4.5486777e+02],\n",
       "       [2.5911165e+01, 2.2907593e+02, 9.3626543e+03, 2.3606273e+04,\n",
       "        1.2087750e+03],\n",
       "       [4.0100830e+01, 8.8543927e+02, 1.7102118e+03, 2.6254871e+03,\n",
       "        7.0796606e+02],\n",
       "       [1.5719417e+02, 8.3713440e+02, 5.1021539e+02, 1.1501041e+03,\n",
       "        1.8313370e+02]], dtype=float32)"
      ]
     },
     "execution_count": 20,
     "metadata": {},
     "output_type": "execute_result"
    }
   ],
   "source": [
    "tpf.flux[0]"
   ]
  },
  {
   "cell_type": "markdown",
   "metadata": {},
   "source": [
    "You can use normal `numpy` methods on these to find the shape, mean etc!"
   ]
  },
  {
   "cell_type": "markdown",
   "metadata": {},
   "source": [
    "We can now turn this Target Pixel File into a light curve, with a single flux value for every time value. Each of the pixels are 4 arcseconds ($4\"$) across. The point spread function (PSF) of the telescope causes the light from the star fall onto several different pixels, which can be seen in the image above. Because of this spreading, we have to sum up many pixels to collect all the light from the source. To do this we sum up all the pixels in an **aperture**. An aperture is a pixel mask, where we take only the pixels related to the target. "
   ]
  },
  {
   "cell_type": "markdown",
   "metadata": {},
   "source": [
    "The *Kepler* pipeline adds an aperture mask to each target pixel file. This aperture determines which pixels are summed to create a 1D light curve of the target. There are some science cases where you might want to create a different aperture. For example, there may be a nearby contaminant or you may want to measure the background. \n",
    "\n",
    "The standard pipeline aperture is easily accessed in a `KeplerTargetPixelFile` object using `tpf.pipeline_mask`, which is a boolean array:"
   ]
  },
  {
   "cell_type": "markdown",
   "metadata": {},
   "source": [
    "## Traduzido\n"
   ]
  },
  {
   "cell_type": "markdown",
   "metadata": {},
   "source": [
    "Você pode usar métodos normais `numpy` para encontrar a forma, a média etc!"
   ]
  },
  {
   "cell_type": "markdown",
   "metadata": {},
   "source": [
    "Agora podemos transformar esse arquivo de pixel de destino em uma curva de luz, com um único valor de fluxo para cada valor de tempo. Cada um dos pixels tem 4 segundos de arco ($ 4 \"$) de diâmetro. A função de espalhamento pontual (PSF) do telescópio faz com que a luz da estrela caia em vários pixels diferentes, que podem ser vistos na imagem acima. Devido a essa dispersão, temos que somar muitos pixels para coletar toda a luz da fonte.Para fazer isso, somaremos todos os pixels em uma ** abertura **. Uma abertura é uma máscara de pixel, onde pegamos apenas os pixels relacionados ao alvo .\n"
   ]
  },
  {
   "cell_type": "markdown",
   "metadata": {},
   "source": [
    "O pipeline * Kepler * adiciona uma máscara de abertura a cada arquivo de pixel de destino. Essa abertura determina quais pixels são somados para criar uma curva de luz 1D do alvo. Existem alguns casos científicos em que você pode querer criar uma abertura diferente. Por exemplo, pode haver um contaminante próximo ou você pode medir o fundo.\n",
    "\n",
    "A abertura padrão do pipeline é facilmente acessada em um objeto `KeplerTargetPixelFile` usando` tpf.pipeline_mask`, que é uma matriz booleana:"
   ]
  },
  {
   "cell_type": "code",
   "execution_count": 21,
   "metadata": {},
   "outputs": [
    {
     "data": {
      "text/plain": [
       "array([[False, False, False, False, False],\n",
       "       [False, False,  True,  True, False],\n",
       "       [False, False,  True,  True, False],\n",
       "       [False,  True,  True,  True, False],\n",
       "       [False, False, False,  True, False]])"
      ]
     },
     "execution_count": 21,
     "metadata": {},
     "output_type": "execute_result"
    }
   ],
   "source": [
    "tpf.pipeline_mask"
   ]
  },
  {
   "cell_type": "markdown",
   "metadata": {},
   "source": [
    "We can also plot this aperture over the target pixel file above to see if the flux of the star is all contained within the aperture."
   ]
  },
  {
   "cell_type": "markdown",
   "metadata": {},
   "source": [
    "Também podemos traçar essa abertura sobre o arquivo de pixels alvo acima para ver se o fluxo da estrela está todo contido na abertura."
   ]
  },
  {
   "cell_type": "code",
   "execution_count": 22,
   "metadata": {},
   "outputs": [
    {
     "data": {
      "text/plain": [
       "<matplotlib.axes._subplots.AxesSubplot at 0x7efd76d7fb50>"
      ]
     },
     "execution_count": 22,
     "metadata": {},
     "output_type": "execute_result"
    },
    {
     "data": {
      "image/png": "[encoded data removed]",
      "text/plain": [
       "<Figure size 848.5x400 with 2 Axes>"
      ]
     },
     "metadata": {},
     "output_type": "display_data"
    }
   ],
   "source": [
    "tpf.plot(aperture_mask=tpf.pipeline_mask)"
   ]
  },
  {
   "cell_type": "markdown",
   "metadata": {},
   "source": [
    "Now that we have the aperture we can create a Simple Aperture Photometry light curve in the next tutorial."
   ]
  },
  {
   "cell_type": "markdown",
   "metadata": {},
   "source": [
    "Finally, note that you can inspect all the raw metadata of the target by taking a look at the 'header' of the FITS file, which contains information about the data set. Let's just print the first 10 lines:"
   ]
  },
  {
   "cell_type": "markdown",
   "metadata": {},
   "source": [
    "Agora que temos a abertura, podemos criar uma curva de luz Simple Aperture Photometry no próximo tutorial."
   ]
  },
  {
   "cell_type": "markdown",
   "metadata": {},
   "source": [
    "Por fim, observe que você pode inspecionar todos os metadados brutos do destino, observando o 'cabeçalho' do arquivo FITS, que contém informações sobre o conjunto de dados. Vamos apenas imprimir as 10 primeiras linhas:"
   ]
  },
  {
   "cell_type": "code",
   "execution_count": 12,
   "metadata": {
    "scrolled": false
   },
   "outputs": [
    {
     "data": {
      "text/plain": [
       "SIMPLE  =                    T / conforms to FITS standards                     \n",
       "BITPIX  =                    8 / array data type                                \n",
       "NAXIS   =                    0 / number of array dimensions                     \n",
       "EXTEND  =                    T / file contains extensions                       \n",
       "NEXTEND =                    2 / number of standard extensions                  \n",
       "EXTNAME = 'PRIMARY '           / name of extension                              \n",
       "EXTVER  =                    1 / extension version number (not format version)  \n",
       "ORIGIN  = 'NASA/Ames'          / institution responsible for creating this file \n",
       "DATE    = '2015-09-23'         / file creation date.                            \n",
       "CREATOR = '917482 TargetPixelExporterPipelineModule' / pipeline job and program "
      ]
     },
     "execution_count": 12,
     "metadata": {},
     "output_type": "execute_result"
    }
   ],
   "source": [
    "tpf.header()[:10]"
   ]
  },
  {
   "cell_type": "markdown",
   "metadata": {},
   "source": [
    "We can look at the values in the second extention of the fits file by passing an extention number to the `header` function. For example, to look at all the column titles:"
   ]
  },
  {
   "cell_type": "markdown",
   "metadata": {},
   "source": [
    "Podemos observar os valores na segunda extensão do arquivo fits passando um número de extensão para a função `header`. Por exemplo, para examinar todos os títulos da coluna:"
   ]
  },
  {
   "cell_type": "code",
   "execution_count": 13,
   "metadata": {
    "scrolled": true
   },
   "outputs": [
    {
     "data": {
      "text/plain": [
       "TTYPE1  = 'TIME    '           / column title: data time stamps                 \n",
       "TTYPE2  = 'TIMECORR'           / column title: barycenter - timeslice correction\n",
       "TTYPE3  = 'CADENCENO'          / column title: unique cadence number            \n",
       "TTYPE4  = 'RAW_CNTS'           / column title: raw pixel counts                 \n",
       "TTYPE5  = 'FLUX    '           / column title: calibrated pixel flux            \n",
       "TTYPE6  = 'FLUX_ERR'           / column title: 1-sigma calibrated uncertainty   \n",
       "TTYPE7  = 'FLUX_BKG'           / column title: calibrated background flux       \n",
       "TTYPE8  = 'FLUX_BKG_ERR'       / column title: 1-sigma cal. background uncertain\n",
       "TTYPE9  = 'COSMIC_RAYS'        / column title: cosmic ray detections            \n",
       "TTYPE10 = 'QUALITY '           / column title: pixel quality flags              \n",
       "TTYPE11 = 'POS_CORR1'          / column title: column position correction       \n",
       "TTYPE12 = 'POS_CORR2'          / column title: row position correction          \n",
       "TTYPE13 = 'RB_LEVEL'           / column title: rolling band level               "
      ]
     },
     "execution_count": 13,
     "metadata": {},
     "output_type": "execute_result"
    }
   ],
   "source": [
    "tpf.header(1)['TTYPE*']"
   ]
  }
 ],
 "metadata": {
  "kernelspec": {
   "display_name": "Python 3",
   "language": "python",
   "name": "python3"
  },
  "language_info": {
   "codemirror_mode": {
    "name": "ipython",
    "version": 3
   },
   "file_extension": ".py",
   "mimetype": "text/x-python",
   "name": "python",
   "nbconvert_exporter": "python",
   "pygments_lexer": "ipython3",
   "version": "3.7.6"
  }
 },
 "nbformat": 4,
 "nbformat_minor": 2
}
